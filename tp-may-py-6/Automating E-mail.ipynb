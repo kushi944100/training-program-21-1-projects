{
 "cells": [
  {
   "cell_type": "markdown",
   "metadata": {},
   "source": [
    "# Automating Bulk E-mail"
   ]
  },
  {
   "cell_type": "markdown",
   "metadata": {},
   "source": [
    "Creating the necessary python environment :"
   ]
  },
  {
   "cell_type": "code",
   "execution_count": 14,
   "metadata": {},
   "outputs": [],
   "source": [
    "import pandas as pd\n",
    "import smtplib "
   ]
  },
  {
   "cell_type": "markdown",
   "metadata": {},
   "source": [
    "Declaring necessary variables :"
   ]
  },
  {
   "cell_type": "code",
   "execution_count": 29,
   "metadata": {},
   "outputs": [],
   "source": [
    "sender_name=\"Tisha\"\n",
    "sender_email=\"iamtisha22@gmail.com\"\n",
    "sender_pass=\"00009920\"\n"
   ]
  },
  {
   "cell_type": "code",
   "execution_count": 38,
   "metadata": {},
   "outputs": [
    {
     "data": {
      "text/plain": [
       "(235, b'2.7.0 Accepted')"
      ]
     },
     "execution_count": 38,
     "metadata": {},
     "output_type": "execute_result"
    }
   ],
   "source": [
    "server=smtplib.SMTP_SSL(\"smtp.gmail.com\", 465) #creating smtp client session object\n",
    "server.ehlo() #calling elho() in cass of no previous elho() session\n",
    "server.login(semail,spass) #log in on an smtp server\n"
   ]
  },
  {
   "cell_type": "markdown",
   "metadata": {},
   "source": [
    "Using pandas to read the excel file containing all list of e-mails :"
   ]
  },
  {
   "cell_type": "code",
   "execution_count": 31,
   "metadata": {},
   "outputs": [],
   "source": [
    "email_list = pd.read_excel(\"C:\\\\Users\\\\user\\\\Documents\\\\emaillist.xlsx\")"
   ]
  },
  {
   "cell_type": "code",
   "execution_count": 32,
   "metadata": {},
   "outputs": [],
   "source": [
    "# Handling the data in columns of the excel file :\n",
    "all_name = email_list['Name']\n",
    "all_email = email_list['Email']\n",
    "all_sub = email_list['Subject']\n",
    "all_msg = email_list['Message']"
   ]
  },
  {
   "cell_type": "code",
   "execution_count": 39,
   "metadata": {},
   "outputs": [
    {
     "data": {
      "text/plain": [
       "(221, b'2.0.0 closing connection t17sm1394088pji.9 - gsmtp')"
      ]
     },
     "execution_count": 39,
     "metadata": {},
     "output_type": "execute_result"
    }
   ],
   "source": [
    "# looping over the column item, taking necessary steps to send e-mails : \n",
    "for idx in range(len(all_mail)):\n",
    "    name = all_name[idx]\n",
    "    email = all_email[idx]\n",
    "    sub = all_sub[idx]\n",
    "    msg = all_msg[idx]\n",
    "    full_mail = (\"From: {0}<{1}>\\nTo: {2} <{3}>\\nSubject: {4}\\n\\n{5}\").format(sender_name,sender_email,name,email,sub,msg)\n",
    "    server.sendmail(sender_email,email,full_mail)\n",
    "server.quit()\n",
    "    "
   ]
  }
 ],
 "metadata": {
  "kernelspec": {
   "display_name": "Python 3",
   "language": "python",
   "name": "python3"
  },
  "language_info": {
   "codemirror_mode": {
    "name": "ipython",
    "version": 3
   },
   "file_extension": ".py",
   "mimetype": "text/x-python",
   "name": "python",
   "nbconvert_exporter": "python",
   "pygments_lexer": "ipython3",
   "version": "3.8.5"
  }
 },
 "nbformat": 4,
 "nbformat_minor": 4
}
